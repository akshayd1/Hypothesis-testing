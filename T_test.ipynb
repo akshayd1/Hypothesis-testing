{
  "nbformat": 4,
  "nbformat_minor": 5,
  "metadata": {
    "kernelspec": {
      "display_name": "Python 3",
      "language": "python",
      "name": "python3"
    },
    "language_info": {
      "codemirror_mode": {
        "name": "ipython",
        "version": 3
      },
      "file_extension": ".py",
      "mimetype": "text/x-python",
      "name": "python",
      "nbconvert_exporter": "python",
      "pygments_lexer": "ipython3",
      "version": "3.8.8"
    },
    "colab": {
      "name": "T test.ipynb",
      "provenance": [],
      "collapsed_sections": [],
      "include_colab_link": true
    }
  },
  "cells": [
    {
      "cell_type": "markdown",
      "metadata": {
        "id": "view-in-github",
        "colab_type": "text"
      },
      "source": [
        "<a href=\"https://colab.research.google.com/github/akshayd1/T-test/blob/main/T_test.ipynb\" target=\"_parent\"><img src=\"https://colab.research.google.com/assets/colab-badge.svg\" alt=\"Open In Colab\"/></a>"
      ]
    },
    {
      "cell_type": "markdown",
      "metadata": {
        "id": "9fded12c"
      },
      "source": [
        "# Types of t-test\n",
        "**1- One Sample t-test**                                                    \n",
        "**2- Two Sample t-test**                                                                     \n",
        "**3- Paired Sample t-test**                                                                            \n"
      ],
      "id": "9fded12c"
    },
    {
      "cell_type": "markdown",
      "metadata": {
        "id": "01234482"
      },
      "source": [
        "# One sample t test"
      ],
      "id": "01234482"
    },
    {
      "cell_type": "markdown",
      "metadata": {
        "id": "ec67c93a"
      },
      "source": [
        "#### What is the one-sample t-test\n",
        "A one-sample t-test is used to compare a single population to a standard value"
      ],
      "id": "ec67c93a"
    },
    {
      "cell_type": "markdown",
      "metadata": {
        "id": "093d3f73"
      },
      "source": [
        "**This test is used when we want to check whether the mean of the single population is equal to the targeted value or not.**\n",
        "\n",
        "\n",
        "**Test statistic,**\n",
        "$$t = \\frac{\\bar{x}-\\mu}{\\frac{s}{\\sqrt{n}}}$$   \n",
        "\n",
        "\n",
        " \n",
        "**Notation:-**                                                                                                           \n",
        "         μ = population mean                                                                   \n",
        "         n  = sample size                                                                                                \n",
        "         s= standard deviation "
      ],
      "id": "093d3f73"
    },
    {
      "cell_type": "markdown",
      "metadata": {
        "id": "8003a7ad"
      },
      "source": [
        "# Assumptions\n",
        "\n",
        "#### 1.The dependent variable must be continuous (interval/ratio).\n",
        "#### 2.The observations are independent of one another.\n",
        "#### 3.The dependent variable should be approximately normally distributed.\n",
        "#### 4.The dependent variable should not contain any outliers."
      ],
      "id": "8003a7ad"
    },
    {
      "cell_type": "markdown",
      "metadata": {
        "id": "270d7926"
      },
      "source": [
        "**Example-1**                                                                   \n",
        "The Height of 10 students( in inches ) is given below:                                                                    \n",
        "63,67,66,68,69,70,70,71,71,65.                                                                                               \n",
        "Test whether the population mean height is 66 inches or not at 5 % level of Significance."
      ],
      "id": "270d7926"
    },
    {
      "cell_type": "code",
      "metadata": {
        "id": "c3fc78a0"
      },
      "source": [
        "## Created the list store the variable height"
      ],
      "id": "c3fc78a0",
      "execution_count": null,
      "outputs": []
    },
    {
      "cell_type": "code",
      "metadata": {
        "colab": {
          "base_uri": "https://localhost:8080/"
        },
        "id": "ad4ca133",
        "outputId": "f4f2d126-e5a3-421e-c904-4b8ed3876c8f"
      },
      "source": [
        "x1 = [63,67,66,68,69,70,70,71,71,65]\n",
        "x1"
      ],
      "id": "ad4ca133",
      "execution_count": null,
      "outputs": [
        {
          "output_type": "execute_result",
          "data": {
            "text/plain": [
              "[63, 67, 66, 68, 69, 70, 70, 71, 71, 65]"
            ]
          },
          "metadata": {},
          "execution_count": 3
        }
      ]
    },
    {
      "cell_type": "markdown",
      "metadata": {
        "id": "8d24bf47"
      },
      "source": [
        "We have, population mean (μ) = 66                                                              \n",
        "Sample size (n) = 10                                                                                         \n",
        "Level of significance = 0.05 or 5 %                                                                         \n",
        "#### The test statistics is, $$t = \\frac{\\bar{x}-\\mu}{\\frac{s}{\\sqrt{n}}}$$"
      ],
      "id": "8d24bf47"
    },
    {
      "cell_type": "markdown",
      "metadata": {
        "id": "be669758"
      },
      "source": [
        "## Hypothesis:-\n",
        "\n",
        "$H_{0}$: The population mean height is 66 inches: \n",
        "\n",
        "$H_{0}: \\mu$ = $66$.\n",
        "\n",
        "### V/S\n",
        "\n",
        "$H_{1}$:  The population mean height is not equal to 66 inches. \n",
        "\n",
        "$H_{1}: \\mu$ ≠ $66$.\n",
        "    "
      ],
      "id": "be669758"
    },
    {
      "cell_type": "markdown",
      "metadata": {
        "id": "c0fd20dc"
      },
      "source": [
        "#### Number of observations($n$). "
      ],
      "id": "c0fd20dc"
    },
    {
      "cell_type": "code",
      "metadata": {
        "colab": {
          "base_uri": "https://localhost:8080/"
        },
        "id": "0f21b475",
        "outputId": "f6a3c86a-5df3-4a47-ce14-23bf82e9a066"
      },
      "source": [
        "n = len(x1) ## to get the sample size\n",
        "n"
      ],
      "id": "0f21b475",
      "execution_count": null,
      "outputs": [
        {
          "output_type": "execute_result",
          "data": {
            "text/plain": [
              "10"
            ]
          },
          "metadata": {},
          "execution_count": 4
        }
      ]
    },
    {
      "cell_type": "markdown",
      "metadata": {
        "id": "bc1df3bd"
      },
      "source": [
        "sample mean ($\\bar{x}$)\n",
        "$$\\bar{x} = Σ{x}/{n}$$\n",
        "\n",
        "**Notation:**                                                                                         \n",
        "Σ{x} = Sum of all  observation.                                                              \n",
        "    n= Number of oberservation."
      ],
      "id": "bc1df3bd"
    },
    {
      "cell_type": "code",
      "metadata": {
        "colab": {
          "base_uri": "https://localhost:8080/"
        },
        "id": "8da099b1",
        "outputId": "a3d76e7f-1b9b-4942-b15a-56039e6bd0af"
      },
      "source": [
        "#Calculating the sample mean.\n",
        "x_bar = sum(x1) /n\n",
        "print(x_bar)\n",
        "mu = 66"
      ],
      "id": "8da099b1",
      "execution_count": null,
      "outputs": [
        {
          "output_type": "stream",
          "name": "stdout",
          "text": [
            "68.0\n"
          ]
        }
      ]
    },
    {
      "cell_type": "markdown",
      "metadata": {
        "id": "iwj2SMvAUoir"
      },
      "source": [
        "The Sample Average height of the Student is 68.00 "
      ],
      "id": "iwj2SMvAUoir"
    },
    {
      "cell_type": "markdown",
      "metadata": {
        "id": "dd11bf15"
      },
      "source": [
        "## Sample Variance($s^2$)\n",
        "  \n",
        "  ![image.png](data:image/png;base64,iVBORw0KGgoAAAANSUhEUgAAAOYAAAA/CAIAAAB7OSMLAAARwUlEQVR4nO2ceVBT19vHbzYIeyAJW8JOJSKLgCIqsuggRVFURNE6VoWxM0XKuNRqdRyxKnWmy7SDoo7FuiFaRIHKJouKVCNqQEDBgBKRJUASQjaS3OX3x+3kzassUdAYez9/5Z5z85zn3nxz7jnPec7FIQgCYGAYDnh9O4CB8XZgksUwMDDJYhgYmGQxDAxMshgGBiZZDAMDkyyGgYFJFsPAwCSLYWBgksUwMDDJYhgYn45kc3Nz9+zZMzQ0pG9HMN4vRH07MAk0NTVlZWWVl5e7u7uDIKhvdzDeLwbfyzY3NxcWFsbGxjo6OmJZaf8FDF6yDg4OS5cujYiIsLW1xeMN/nIwxsXgBwY2NjY2NjYAAOBwOH37gvEhwLolDAMDkyyGgYFJFsPAwCSLYWDoNP1SKBQikYhEItHp9Pft0DujUCjkcjkW5zIghoeHhUKhkZERhUIhEnWNBIxz3vDw8JMnT9hs9uDgoFqtDg0NnTt3rrGx8YS9nUwKCgr6+/tbW1sVCsWZM2eYTGZsbKypqam+/cIYCw6HU1dX19/fL5PJoqOjZ86cqeNPNo5kBwcHHz582NLSYmtr+/Dhw9bWVhaL5ejoOBk+Txr9/f1dXV3R0dEIggwODpJIJAiC9O3UW6NUKl+9etXd3c1gMNzd3fXtzqTx7NkzPp/v5eVFpVIJBIKmvLy8fGBgwNra+u7du2Kx2NXV1cXFRReD40iWSCT6+flFRkYymcwLFy5cuHBBLpdP6AreA8nJyfp2YQT4fD6Hw+nq6hrtBF9f3+DgYPSzQqFoaGhgs9lkMtnMzOxD+TgyKpXq6tWrcrl85syZPj4+E7QmFArr6+sbGhoWL17s5OSkGQB4enomJiYyGAxLS8t79+7prqtxJEuj0Wg0GgAAYrGYRCIFBASghxjjIhaLL126lJuby2Awpk2bphGiTCZraWlpb2/ftm0bKlkQBBsbG69du2ZnZxcXF2dvbz+G2b6+vubmZhqN5uvr+548V6vV5eXl58+f//HHHycu2ZCQEFtb28zMzIsXL65bt47BYKB9bXx8PAAAKpUKBMGgoCArKysdDeoUMZDL5Q0NDRKJJCkpiUKhvLP3/ymmTJmyePFiLy8vFov13XffnT17NicnJycn59SpUxs3brSzs9Oc2dvbW1RUJJfLExMTx9YrAADPnj07cuTIlStX3p/nJiYm6enpk2jQ3d1927ZtNTU11dXV2r2pSqV68ODB0NDQwoULbW1tdbQ2vmQVCkVTU1NjY6Orq6unpyeWKqU7kZGRixYtevz48dWrV/v6+tBCOp0eGRk5ffp0zWkcDofL5QYHBzs4OIxrk0KhBAUFeXh4vC+nAQCPx1tYWEyuTSaTGRMTU1RU1NvbC8MwAABqtbq+vr6srGz+/PkMBkP39fb/GxhIJJLOzk6BQADDsJGREZPJdHJyUqvVT548KS8vd3Nzmz59eltbG51O/5hDXR8AkUg0NDRkY2Mz7u9KpVKXLFny+PHjqqqqwMDA5cuXk8lkAADc3Nzmz5+PTpCVSmVraysEQRoRq9Xqnp4eHo+HIAiNRnN2dhaJRDwez8zMjMFgmJiYLF68eOIzYAiCenp62tvbcTichYWFn58fn8/ncrnGxsaaIQcMwzwe79WrVyAIOjs7u7m5aTzs7e3t6elRKBRkMtnd3Z1KpeLx+OfPn3d1dTGZTAqF8uLFC6lUOnXqVBsbG3QkMGfOnF9//bWtrc3Z2dnY2Pjp06fnz5+Piory9PRsaWnx8vKytrbWxXPC/v37AQCQy+U1NTWZmZmXL18uKiq6du0aCILh4eEDAwMFBQUcDmfatGkcDqe5uZnJZL4pWZlMxuVyOzo6ukair6+PSCTqfVYxcUQikVQq5XA4FRUVZDIZhmEcDoeqcDRoNJpMJqusrBQKhd7e3mi6mZmZ2Zw5c2bOnAkAQFdXV2FhIZFITEhIQE1JJJLCwsKdO3dmZ2fL5XIfH5/S0tK0tDQej+fo6Hjjxo0DBw6AIBgRETGRaxkeHi4rK9uyZUtWVlZ/f39cXFxJSUlCQkJ7e3tERISpqemRI0d8fHx6enqysrLOnTvH4/FCQ0NNTExwONzt27eLiory8vJycnJyc3PNzc0DAgKIROL58+dTUlKUSqVKpfr9998zMjL8/Pw8PDxIJBIAABYWFtnZ2S4uLr6+vng8/pdffsHj8ebm5t3d3SUlJd7e3jpOk/7tZdva2nJzc42Nja9cuQLDcHZ2tlKpRG8fDMPW1tbV1dUAAHh6eo7YtXR2dh48eLCpqWnENmg02jfffLN8+XLtQpVK1dra+jY3WQ+4uLhYWlpqDjkcTnd3t4mJCYIgjx49Ki4ujo6Onjdv3hgWTExM4uLiWltbL1++nJeX9+YfXiQSDQwMODo6aiYJFAolISEBBMG//vrL39+fRqPZ2dmtWLFi48aNAQEBDAZjjCiE7piami5btgyCoPT09NjYWLVazWAwQkJCjh075uHhIRaLIQj6559/jh49mpKSUlxcvHr16lmzZm3evBkAgP3798+fPz83N5fP569evfrEiRPr1683NjZOTU0tLi7mcrlmZmapqammpqY2NjaaJ76FhQWBQHj16pVKpRoeHjY3N+/t7WWz2QAAuLq6mpub6+j5/4sYwDAslUrt7e337t2Lduaenp47d+4c1wqLxbp48eJb3TI+n/+aiD9CTpw4sWDBAs1hRETE7du38/Pzb9686erqunnzZn9//3GNMBiMlStXtrS0VFVVzZ49OzY2VrtWrVajvYM2FApl2bJlPT09+fn5Uql0eHh4w4YNAQEBAACQSKQRQ+4QBEkkkoGBgdHcMDIycnZ21i4xNTWNi4trb2/PyMgwNTUtLi4+efLkZ599htaSSKSVK1eiw5WYmBhfX9+KigpUsrdu3ULPYTKZ0dHRhw8fRoenAABYWVn19vampqbS6fSoqKjRnLG3t0cf7+/Av5J1dXWdO3duZmbmpk2b4uLi4uLi3NzcjIyMdLSiUqnQ5bERa/F4vKWl5WsDAycnp7a2tndzWl8MDAx0dHT09fUxmcypU6eamZnpuD4cFBQUFhZ26tSpZ8+e6diWg4PDqlWreDxebm5uWlqa9nRtRKRS6ZUrV/bt2zfaCSwWq7Ky8rVCS0vLlJSU2traHTt2ZGZmTpkyZbSvW1tbSyQS9DMIgnK5HARBtVoNw/BrN2HBggVjD5YmCFHj+vr164OCgvLz88+cOVNSUrJ///7w8HAdrbS2tm7duvXRo0cj1trZ2e3Zs2fdunWT47L+qKmpQRBk06ZNL1++pNFobDabSCSOPTBAUalUMplszpw5bw5AyWSyqakpDMMwDGvvqoAgiEgkUqlUiUTy6NGjmJiYsYd6VlZWSUlJSUlJb3VFMAyDIOji4tLR0VFRUREVFTXaajwMw+gqAARBaBS5q6uroaHhyZMnKpVKx7YQBJn4zpF/vw9BEB6Pnz59+sGDB0+cOAEAwOnTp3W3gj41hKPw9OnTT0CvAADEx8dv3LiRRCIJBAJXV9ddu3bpolcYhq9fv/7ixYv4+PjAwMDXam1sbOzt7QUCgfYIFUGQzs7OsrIyFxeXQ4cOPX78+MyZM2h4EUEQVN8TvxwEQUQi0bFjx+bNm3fy5MmCgoKzZ89q1roRBIEgCNUZCIICgQCNrHV0dKDT/OPHj9+7dy89PV37aYz6NuLDZ3BwEIIgDw+PCfbB//ay169fLykpWbNmTXBwsFAoJBAIuod2/2tERkZGRkbqfv6DBw/y8/P9/Pw+//zzN2sZDAaLxers7Ozr63NyckILhULh9evX+Xz+7t27QRDkcrnHjx+3srJKTk6Wy+VcLlf3ycoYyGSygoICgUDwww8/yOXyr7/+evv27VQqdcWKFQAAQBB07dq1+Ph4Z2fn7Ozs+vr63377DQCAnp6ewcFBS0tLHA7HZrNv376t/f/h8XggCI4YvG9sbBweHvbx8ZloxhKCIAiC1NbWJiQkODo6kslkBweH1NTU9vZ25EOhVqsbGxvT0tIyMjI+WKOvUVRUtGvXrps3b8pkskk0293dnZaWlpKS0t7ejnY/b3Ljxo01a9YcPXoUPRwYGEhPTyeRSBEREffu3WOz2VFRUTgcLjg4+PTp0zt27MDj8Uwm8+eff56IY2KxOCMjw9jYmMViNTc38/l8NBeHRqM1NTWJxeIpU6akp6d7eXmRyWQWi5Wfnw+CIDqQ+Oqrr8hksr29/aFDhw4fPmxkZOTl5SUUCnfv3m1qaorH45OSkoRC4WstHjhwYPPmzS9fvhztPujIv5JVq9USiUQoFAoEAqFQKJVKQRCciF3dUalUNTU1oaGhN2/eRBNePwyVlZUCgUBzqFQq6+rq4uPjc3JyhoaGJquV48ePb9iwoaqqSvt+ymSyw4cP79u3Dz0cGho6cuTIl19+iXYTEATJZDKBQCAWi9VqtVqtFovFAoFgcHBweHgYrRIKhRO8VzAMy+VygUAgEonUajUEQSKRCLWMTqpEIpFcLkcLRSKRUqnUfFcqlWp80BjRuC0QCCQSCQRB2s1xOJzAwMC///5boVBMxG1EI1l9AYJgS0tLYGBgaWmp9k15r7S1tSUnJzOZzLq6Ou1ydMl7yZIleXl5k/LnqaqqWrt2bVZW1vDwsHZ5ZWVlWFjYt99+ix7CMNzR0ZGenr5169bnz59PvN2Pjfr6+kWLFl24cGFwcHCCXSyCIHreFC6RSE6dOuXs7BweHq57TO2dGRoaysvLa2ho6OnpQaPl2rUkEsnPz2/27Nm1tbU+Pj5eXl4Taautre3cuXMFBQUVFRU//fSTdpVcLhcKhbNmzUIPcTgck8ncsGHDrVu3/vzzz9DQ0DEimgZHYWHh/fv3t2zZMnv2bAsLi4nv3dezZOVyeWlp6fbt29FZJARBL1++rK6uJhKJ69at6+zsrKystLCwiIqKmpQMMjMzM09Pz7lz55aWlo4YkiORSCEhIXv37g0PD3d3d0dXGt8NNpt99+5dmUwmk8k0OTEaqFSqdjIXgUBgMBhLly6VyWSfwMq2NmFhYTNmzKBQKGQyeVLejaJPySqVysbGxoGBAU2mMwAAeDz+4cOH5eXldDr9/v37SqUyNzeXy+V+//33E2+RQCAEBQWRyWQKhaKdIa+Nt7c3Ho9vbW0NDQ2lUqnv3FZUVJSPj8+bK1soJBLptbwtAoFgZWWle9qooUChUCY3YVWfklWr1U+fPsXhcJp9I3g8nk6nh4SE/PHHHz09PWvXrgUAgMfjHTt2bFIkCwDAuH0YlUolk8kdHR0SiWQikrW1tcUChe8DfUoWgiCBQKCdDIXD4YyMjOh0OoFAWLhwIZPJBEHQy8srNzf3za/39vbW1taOEVSPiYl5h/glkUjE4/FKpdIQN5D9F9DzWHY0WaChR/TzaANKhUKBBq5HM45lo3+S6FOy4yabjg2dTl+0aNEYvSy2L/yTRJ+SJRKJ6KO/q6uLwWBoVyEIIpVKx36sm5ubs1isSfdKoVCAIEilUj+21zVgoOjzBUdGRkb+/v4kEkmTkgfDsFgsvnPnDgRBZWVlqHA5HA6CIHfu3EEm400wfD6/paWFw+HIZLL79+83NzejKzeaEzo7O2UymYeHx6c3ef800KdkiUSik5OTt7e3JmUYQZDBwUGpVBoVFcXlctFDc3PzmJiYBw8eTEqjz58/r6urg2E4LCyMz+ez2ezu7m7tTN+GhgZ7e3sWi4WNKz5O9Dz9Mjc3T0xMPH36NLqCisPhrKysVq1aBQAAHo9Hd9JN7ps16HQ6DofT3qGqHaPl8/mVlZUhISGenp6jBW4x9AtuUp627wwMw3w+//DhwzQaLTk5+bUR7Qemr6/v0qVLXC73iy++CAgI+AALyBjvgJ5f1onH421tbVNTUxUKRXl5Obp5TS+0t7dXV1cPDAwkJib6+/tjev1o0f/7ZQkEgoeHR2pqKplMFggE+nJDKpUSicS1a9fOmDHjvW5dwpggeh4YYGC8LfrvZTEw3gpMshgGBiZZDAMDkyyGgYFJFsPAwCSLYWBgksUwMDDJYhgYmGQxDIz/AaPzMiQIRHHxAAAAAElFTkSuQmCC)"
      ],
      "id": "dd11bf15"
    },
    {
      "cell_type": "code",
      "metadata": {
        "colab": {
          "base_uri": "https://localhost:8080/"
        },
        "id": "0c20f521",
        "outputId": "2c6d5451-9b64-4920-8fdb-ae02d453002d"
      },
      "source": [
        "## sample variance (s) = sqrt (Σ (Xi - x_bar)^2 / n-1 )\n",
        "sample_var = sum((xi - x_bar)** 2 for xi in x1 )/ (n-1)\n",
        "sample_var"
      ],
      "id": "0c20f521",
      "execution_count": null,
      "outputs": [
        {
          "output_type": "execute_result",
          "data": {
            "text/plain": [
              "7.333333333333333"
            ]
          },
          "metadata": {},
          "execution_count": 6
        }
      ]
    },
    {
      "cell_type": "markdown",
      "metadata": {
        "id": "55478e67"
      },
      "source": [
        "## sample standard deviation.($s$)\n"
      ],
      "id": "55478e67"
    },
    {
      "cell_type": "code",
      "metadata": {
        "colab": {
          "base_uri": "https://localhost:8080/"
        },
        "id": "31c5b89c",
        "outputId": "328fae54-c43d-4d85-d4e6-e2cbcb1afe76"
      },
      "source": [
        "# The sample standard deviation ($s$). Calculate from sample data.\n",
        "std_dev = sample_var ** 0.5\n",
        "std_dev"
      ],
      "id": "31c5b89c",
      "execution_count": null,
      "outputs": [
        {
          "output_type": "execute_result",
          "data": {
            "text/plain": [
              "2.70801280154532"
            ]
          },
          "metadata": {},
          "execution_count": 7
        }
      ]
    },
    {
      "cell_type": "markdown",
      "metadata": {
        "id": "91f6824e"
      },
      "source": [
        "### Calculated Value of  Test Statistics"
      ],
      "id": "91f6824e"
    },
    {
      "cell_type": "code",
      "metadata": {
        "colab": {
          "base_uri": "https://localhost:8080/"
        },
        "id": "26d12b08",
        "outputId": "3917bbd4-fc45-49c9-fd89-028416ea0b06"
      },
      "source": [
        "import math\n",
        "cal_t = (x_bar - mu) / (std_dev / math.sqrt(n))\n",
        "print(\"The value of the calculated test statistcs is\\n Cal_t==\",cal_t)"
      ],
      "id": "26d12b08",
      "execution_count": null,
      "outputs": [
        {
          "output_type": "stream",
          "name": "stdout",
          "text": [
            "The value of the calculated test statistcs is\n",
            " Cal_t== 2.3354968324845693\n"
          ]
        }
      ]
    },
    {
      "cell_type": "markdown",
      "metadata": {
        "id": "4c289c16"
      },
      "source": [
        "## Degrees of Freedom($df$). "
      ],
      "id": "4c289c16"
    },
    {
      "cell_type": "code",
      "metadata": {
        "id": "4adb2435"
      },
      "source": [
        "#df = total number of observations - 1\n",
        "df = 10-1"
      ],
      "id": "4adb2435",
      "execution_count": null,
      "outputs": []
    },
    {
      "cell_type": "markdown",
      "metadata": {
        "id": "ef3abc85"
      },
      "source": [
        "## Tabulated t value\n",
        "The tabulated t value is calculated using t disribution table as follows:                                                   \n",
        "Tab t = t(n-1 , α / 2) degrees of freedom                                                          \n",
        "we have n = 10 and alpha (α ) = 0.05 so, t(10-1 , 0.05 / 2)                                                  \n",
        " "
      ],
      "id": "ef3abc85"
    },
    {
      "cell_type": "markdown",
      "metadata": {
        "id": "01d2d688"
      },
      "source": [
        "scipy.stats.t.ppf(q, df)\n",
        "\n",
        "where q = significance Level                                                            \n",
        "df = degrees of freedom"
      ],
      "id": "01d2d688"
    },
    {
      "cell_type": "code",
      "metadata": {
        "id": "baf565b2",
        "outputId": "9686b9c3-1a1b-4eb6-97ff-e8ec2a6e3713"
      },
      "source": [
        "## Critical value of t ##\n",
        "import scipy.stats\n",
        "##hypothesis is two tailed\n",
        "tab_t = scipy.stats.t.ppf(q=1-.05/2,df=9)\n",
        "tab_t"
      ],
      "id": "baf565b2",
      "execution_count": null,
      "outputs": [
        {
          "data": {
            "text/plain": [
              "2.2621571627409915"
            ]
          },
          "execution_count": 15,
          "metadata": {},
          "output_type": "execute_result"
        }
      ]
    },
    {
      "cell_type": "markdown",
      "metadata": {
        "id": "01349599"
      },
      "source": [
        "## Conclusion:-"
      ],
      "id": "01349599"
    },
    {
      "cell_type": "code",
      "metadata": {
        "id": "aadcb040",
        "outputId": "93a396e2-f32c-47b2-95ff-34c3e22fd5bf"
      },
      "source": [
        "if tab_t > cal_t:\n",
        "    print(\"Accept the Null hypothesis:\\n\" ,\"The population mean height is 66 inches\")\n",
        "else:\n",
        "    print(\"Reject the Null hypothesis:\\n\",\"The population mean height is not equal to 66 inches\")"
      ],
      "id": "aadcb040",
      "execution_count": null,
      "outputs": [
        {
          "name": "stdout",
          "output_type": "stream",
          "text": [
            "Reject the Null hypothesis:\n",
            " The population mean height is not equal to 66 inches\n"
          ]
        }
      ]
    },
    {
      "cell_type": "markdown",
      "metadata": {
        "id": "No0xVhhW6bbw"
      },
      "source": [
        "# **Two Sample t-test:-**\n",
        "This test is used when we want to check whether the mean of two populations is equal to the target population value or not The test statistic is,\n",
        "\n",
        "two sample t test =\n",
        "\n",
        "![image.png](data:image/png;base64,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)\n",
        "\n",
        "With (n1 + n2 - 2) degrees of freedom"
      ],
      "id": "No0xVhhW6bbw"
    },
    {
      "cell_type": "markdown",
      "metadata": {
        "id": "CqEdglu36e2f"
      },
      "source": [
        "Que.1\n",
        "To perform a test of the null and alternative hypothesis shown below,\n",
        "random samples were selected from the two normally distributed populations with equal variances.\n",
        "The data are shown below. Test the null hypothesis using an alpha level equal to 0.05.\n",
        "\n",
        "Ho : μ1 -μ 2 = 0\n",
        "\n",
        "H1 : μ 1-μ2 ≠ 0\n",
        "\n",
        "Sample from Population 1 : 32 39 25 32 38 36 27 36 45 39\n",
        "\n",
        "Sample from Population 2 : 33 45 39 33 31 27 35 37 35 32\n",
        "\n",
        "Hypothesis:-\n",
        "H0: Sample mean and Population mean are equal.\n",
        "H0: μ1 = μ2\n",
        "\n",
        "v/s\n",
        "\n",
        "H1: Sample mean and Population mean are not equal.\n",
        "H1: μ1 ≠ μ2"
      ],
      "id": "CqEdglu36e2f"
    },
    {
      "cell_type": "markdown",
      "metadata": {
        "id": "tdxyE0166nEN"
      },
      "source": [
        "x = [32, 39, 25, 32, 38, 36, 27, 36, 45, 39]                                    \n",
        "y = [33, 45, 39, 33, 31, 27, 35, 37, 35, 32]"
      ],
      "id": "tdxyE0166nEN"
    },
    {
      "cell_type": "code",
      "metadata": {
        "id": "1Uj7ZxG77Heb"
      },
      "source": [
        "x = [32, 39, 25, 32, 38, 36, 27, 36, 45, 39]\n",
        "y = [33, 45, 39, 33, 31, 27, 35, 37, 35, 32]"
      ],
      "id": "1Uj7ZxG77Heb",
      "execution_count": null,
      "outputs": []
    },
    {
      "cell_type": "code",
      "metadata": {
        "colab": {
          "base_uri": "https://localhost:8080/"
        },
        "id": "dnL0ERph6phI",
        "outputId": "5788c10c-db00-407b-b93f-33a6aa0b58e2"
      },
      "source": [
        "# two sample t test = (x1_bar - x2_bar) / (S*(1/n1 + 1/n2)**0.5)\n",
        "def mean(data):                   # User define function for mean\n",
        "    n = len(data)                 # Sample size\n",
        "    return sum(data) / len(data)  # To find the mean\n",
        "print(mean(x))                    # print mean of x\n",
        "print(mean(y))                    # print mean of y"
      ],
      "id": "dnL0ERph6phI",
      "execution_count": null,
      "outputs": [
        {
          "output_type": "stream",
          "name": "stdout",
          "text": [
            "34.9\n",
            "34.7\n"
          ]
        }
      ]
    },
    {
      "cell_type": "code",
      "metadata": {
        "id": "suu1x89n7eRn"
      },
      "source": [
        "import math                       # import math function for using mathematical operation\n",
        "def variance(data):                        # To find the variance\n",
        "    mean = sum(data) / len(data)\n",
        "    n = len(data)\n",
        "    squ_dev = [(x-mean)**2 for x in data]  \n",
        "    return sum (squ_dev) / (n-1)           # Sample Variance"
      ],
      "id": "suu1x89n7eRn",
      "execution_count": null,
      "outputs": []
    },
    {
      "cell_type": "code",
      "metadata": {
        "id": "zLNRjUne6xIO"
      },
      "source": [
        "def comb_var(x,y):                        # Combine Variance\n",
        "    n1 = len(x)                           \n",
        "    n2 = len(y)                          \n",
        "    x1_bar = mean(x)                    \n",
        "    x2_bar = mean(y)                      \n",
        "    s1 = variance(x)                     \n",
        "    s2 = variance(y)                     \n",
        "    return math.sqrt(((n1-1)*s1 + (n2-1)*s2) / (n1+n2-2))"
      ],
      "id": "zLNRjUne6xIO",
      "execution_count": null,
      "outputs": []
    },
    {
      "cell_type": "code",
      "metadata": {
        "colab": {
          "base_uri": "https://localhost:8080/"
        },
        "id": "7EW2O1677M_z",
        "outputId": "a25273f1-2760-46c0-c94e-53f1aad60338"
      },
      "source": [
        "comb_var(x,y)"
      ],
      "id": "7EW2O1677M_z",
      "execution_count": null,
      "outputs": [
        {
          "output_type": "execute_result",
          "data": {
            "text/plain": [
              "5.482294734466176"
            ]
          },
          "metadata": {},
          "execution_count": 60
        }
      ]
    },
    {
      "cell_type": "markdown",
      "metadata": {
        "id": "FP9z1mil7tVg"
      },
      "source": [
        "## Calculating Test Statistic"
      ],
      "id": "FP9z1mil7tVg"
    },
    {
      "cell_type": "code",
      "metadata": {
        "id": "WNbv6qKo7Op6"
      },
      "source": [
        "def two_sample_t_test(x,y,n1,n2,comb_var): \n",
        "    return (x-y)/ (comb_var * math.sqrt(1/n1 + 1/n2)) # To find Two sample t test"
      ],
      "id": "WNbv6qKo7Op6",
      "execution_count": null,
      "outputs": []
    },
    {
      "cell_type": "code",
      "metadata": {
        "colab": {
          "base_uri": "https://localhost:8080/"
        },
        "id": "d06kc7pB7zo3",
        "outputId": "4d99cb6c-14d1-4605-cb69-cf87a46f7497"
      },
      "source": [
        "# Calculated Value of t\n",
        "\n",
        "cal_t1 = two_sample_t_test(34.9,34.7 ,10,10,5.4822)\n",
        "cal_t1"
      ],
      "id": "d06kc7pB7zo3",
      "execution_count": null,
      "outputs": [
        {
          "output_type": "execute_result",
          "data": {
            "text/plain": [
              "0.0815755710298691"
            ]
          },
          "metadata": {},
          "execution_count": 62
        }
      ]
    },
    {
      "cell_type": "markdown",
      "metadata": {
        "id": "aPRHdO6n7mUQ"
      },
      "source": [
        "Tabulated t value\n",
        "scipy.stats.t.ppf(1-α/2, df)\n",
        "\n",
        "where, α/2 = Level of Significance, df = degrees of freedom"
      ],
      "id": "aPRHdO6n7mUQ"
    },
    {
      "cell_type": "code",
      "metadata": {
        "colab": {
          "base_uri": "https://localhost:8080/"
        },
        "id": "lp31gkIC7j9o",
        "outputId": "49854716-3a1b-4f09-b2bd-4188bcdf076e"
      },
      "source": [
        "## tabulated value of t\n",
        "\n",
        "import scipy.stats\n",
        "tab_t1 = scipy.stats.t.ppf((1-0.05/2),18)\n",
        "tab_t1"
      ],
      "id": "lp31gkIC7j9o",
      "execution_count": null,
      "outputs": [
        {
          "output_type": "execute_result",
          "data": {
            "text/plain": [
              "2.10092204024096"
            ]
          },
          "metadata": {},
          "execution_count": 63
        }
      ]
    },
    {
      "cell_type": "markdown",
      "metadata": {
        "id": "pyQ9gM0Q8G_t"
      },
      "source": [
        "## Conclusion:-"
      ],
      "id": "pyQ9gM0Q8G_t"
    },
    {
      "cell_type": "code",
      "metadata": {
        "colab": {
          "base_uri": "https://localhost:8080/"
        },
        "id": "ZvU3IC-18MR2",
        "outputId": "0884a862-cc22-442a-c096-a418e60b733b"
      },
      "source": [
        "if cal_t1 > tab_t1:\n",
        "    print(\"Reject the Null Hypothesis:\",\"\\n Sample mean and Population mean are equal\")\n",
        "else:\n",
        "    print(\"Accept the Null Hypothesis:\",\"\\n Sample mean and Population mean are not equal\")"
      ],
      "id": "ZvU3IC-18MR2",
      "execution_count": null,
      "outputs": [
        {
          "output_type": "stream",
          "name": "stdout",
          "text": [
            "Accept the Null Hypothesis: \n",
            " Sample mean and Population mean are not equal\n"
          ]
        }
      ]
    },
    {
      "cell_type": "code",
      "metadata": {
        "id": "QJrePEtSA9h2"
      },
      "source": [
        ""
      ],
      "id": "QJrePEtSA9h2",
      "execution_count": null,
      "outputs": []
    },
    {
      "cell_type": "markdown",
      "metadata": {
        "id": "2_J0jMj_A_l_"
      },
      "source": [
        "# **Paired t-test:-**                                                     \n",
        " A paired sample t-test is used when we have two dependent sample data of the same.\n",
        "subject i.e. to measure the effect on a particular group before and after the treatment.\n",
        "This test is used when we have data like pre-post, before –After.\n",
        "\n",
        "The test statistic is,\n",
        "\n",
        "![image.png](data:image/png;base64,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)\n",
        "\n",
        "where,\n",
        "dbar = 1/ n sum(di)\n",
        "di = xi-yi\n",
        "sd = sqrt(sum (xi-xbar)^2/n-1)\n",
        "\n",
        "with (n-1) d.f."
      ],
      "id": "2_J0jMj_A_l_"
    },
    {
      "cell_type": "markdown",
      "metadata": {
        "id": "gMO8B6_RBJf-"
      },
      "source": [
        "# Situation Where its Applicable\n",
        "During a Clinical Trial, we choose 25 patients and measure their weight before the drug treatment. And again, after the two months, we again measure their weight. By doing so, we can check whether the drug is effective or not.\n",
        "\n",
        "**Example-1**                                                              \n",
        "Five students took a math testb before and after tutorial there score where as follows:\n",
        "\n",
        "**Before** : 71,66,67,77,75                                            \n",
        "**After** : 75,75,65,80,87\n",
        "\n",
        "Using 0.01 (1%) LOS test the claim that the tutorial has and effect (the mean differnce is non-zero i.e μd ≠ 0.) on the maths Score."
      ],
      "id": "gMO8B6_RBJf-"
    },
    {
      "cell_type": "code",
      "metadata": {
        "id": "-0UIjqj2BAVe"
      },
      "source": [
        "x = [71,66,67,77,75]                                 \n",
        "y = [75,75,65,80,87]"
      ],
      "id": "-0UIjqj2BAVe",
      "execution_count": null,
      "outputs": []
    },
    {
      "cell_type": "markdown",
      "metadata": {
        "id": "R28T6jlvBs_1"
      },
      "source": [
        "## Hypothesis:-\n",
        "**𝐻0** : There is no significance effect of tutoring on Maths test Score.     \n",
        "𝐻0:μd= 0.\n",
        "\n",
        "V/S\n",
        "𝐻1 :-There is significance effect of tutoring on Maths test Score.            \n",
        "**𝐻1**:μd ≠ 0.\n",
        "\n",
        "Calculating the mean and standard deviation of the differences gives"
      ],
      "id": "R28T6jlvBs_1"
    },
    {
      "cell_type": "code",
      "metadata": {
        "id": "3_aef6p4Bpyo"
      },
      "source": [
        "di = [x - y for (x,y) in zip (x,y)]"
      ],
      "id": "3_aef6p4Bpyo",
      "execution_count": null,
      "outputs": []
    },
    {
      "cell_type": "code",
      "metadata": {
        "id": "Aw09xhHmCA64"
      },
      "source": [
        "#User Defind Function for mean\n",
        "def mean(data):\n",
        "    n = len(data)\n",
        "    return sum(data) / float(n)"
      ],
      "id": "Aw09xhHmCA64",
      "execution_count": null,
      "outputs": []
    },
    {
      "cell_type": "code",
      "metadata": {
        "colab": {
          "base_uri": "https://localhost:8080/"
        },
        "id": "W6HYMELYCCgC",
        "outputId": "05e0bedf-86db-4d17-b1e8-890c07b28877"
      },
      "source": [
        "mean(di)"
      ],
      "id": "W6HYMELYCCgC",
      "execution_count": null,
      "outputs": [
        {
          "output_type": "execute_result",
          "data": {
            "text/plain": [
              "-5.2"
            ]
          },
          "metadata": {},
          "execution_count": 68
        }
      ]
    },
    {
      "cell_type": "code",
      "metadata": {
        "id": "QFmdkbsVCDhD"
      },
      "source": [
        "#User Defind Function for variance\n",
        "def variance(data):\n",
        "    mean = sum(data) / len(data)\n",
        "    n = len(data)\n",
        "    squ_dev = [(x-mean) ** 2 for x in data]\n",
        "    return sum (squ_dev) / (n-1)"
      ],
      "id": "QFmdkbsVCDhD",
      "execution_count": null,
      "outputs": []
    },
    {
      "cell_type": "code",
      "metadata": {
        "colab": {
          "base_uri": "https://localhost:8080/"
        },
        "id": "_b-qzGI-CFNl",
        "outputId": "2c90cf60-b9fb-41db-9211-089e3a1f82b3"
      },
      "source": [
        "std = variance(di) ** 0.5\n",
        "std"
      ],
      "id": "_b-qzGI-CFNl",
      "execution_count": null,
      "outputs": [
        {
          "output_type": "execute_result",
          "data": {
            "text/plain": [
              "5.449770637375485"
            ]
          },
          "metadata": {},
          "execution_count": 70
        }
      ]
    },
    {
      "cell_type": "markdown",
      "metadata": {
        "id": "JElW3sKBCMRR"
      },
      "source": [
        "Now, Calculate The Corresponding Test Statistic                             \n",
        "![image.png](data:image/png;base64,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)"
      ],
      "id": "JElW3sKBCMRR"
    },
    {
      "cell_type": "code",
      "metadata": {
        "id": "4adiObnQCIz3"
      },
      "source": [
        "def paired_t_test(data):\n",
        "    d_bar = mean(data)\n",
        "    std = variance(di) ** 0.5\n",
        "    n = len(data)\n",
        "    return d_bar / (std / (n ** 0.5))"
      ],
      "id": "4adiObnQCIz3",
      "execution_count": null,
      "outputs": []
    },
    {
      "cell_type": "code",
      "metadata": {
        "colab": {
          "base_uri": "https://localhost:8080/"
        },
        "id": "WUTUSBMrCKG5",
        "outputId": "efc4d03d-0eaa-4c9d-fe22-4adb99cdcca3"
      },
      "source": [
        "## calcuated value of t\n",
        "\n",
        "cal_t = paired_t_test(di)\n",
        "abs(cal_t)"
      ],
      "id": "WUTUSBMrCKG5",
      "execution_count": null,
      "outputs": [
        {
          "output_type": "execute_result",
          "data": {
            "text/plain": [
              "2.1335858436417676"
            ]
          },
          "metadata": {},
          "execution_count": 72
        }
      ]
    },
    {
      "cell_type": "markdown",
      "metadata": {
        "id": "hgmZPLH4CWdI"
      },
      "source": [
        "## Tabulated Value Of t                                           \n",
        "scipy.stats.t.ppf(q, df)\n",
        "\n",
        "where q = significance Level                                        \n",
        "df = degrees of freedom"
      ],
      "id": "hgmZPLH4CWdI"
    },
    {
      "cell_type": "code",
      "metadata": {
        "colab": {
          "base_uri": "https://localhost:8080/"
        },
        "id": "M-YyYStXCURC",
        "outputId": "d465f603-1854-4e34-c706-6f9e97c29e60"
      },
      "source": [
        "import scipy.stats\n",
        "tab_t = scipy.stats.t.ppf((1-0.01/2),4)\n",
        "tab_t"
      ],
      "id": "M-YyYStXCURC",
      "execution_count": null,
      "outputs": [
        {
          "output_type": "execute_result",
          "data": {
            "text/plain": [
              "4.604094871415897"
            ]
          },
          "metadata": {},
          "execution_count": 73
        }
      ]
    },
    {
      "cell_type": "markdown",
      "metadata": {
        "id": "7EDnTezUChdP"
      },
      "source": [
        "## Conclusion:-\n"
      ],
      "id": "7EDnTezUChdP"
    },
    {
      "cell_type": "code",
      "metadata": {
        "colab": {
          "base_uri": "https://localhost:8080/"
        },
        "id": "-_LL3o7fCjb0",
        "outputId": "ad1b626a-6ba9-40a5-b2a7-47b871f2b738"
      },
      "source": [
        "if cal_t > tab_t:\n",
        "    print(\"Reject the Null Hypothesis:\\n\",\"There is  significance effect of tutoring on Maths test Score\")\n",
        "else:\n",
        "    print(\"Accept the Null Hypothesis:\\n\",\"There is no significance effect of tutoring on Maths test Score\")"
      ],
      "id": "-_LL3o7fCjb0",
      "execution_count": null,
      "outputs": [
        {
          "output_type": "stream",
          "name": "stdout",
          "text": [
            "Accept the Null Hypothesis:\n",
            " There is no significance effect of tutoring on Maths test Score\n"
          ]
        }
      ]
    },
    {
      "cell_type": "code",
      "metadata": {
        "id": "z5lCZAQMCk6f"
      },
      "source": [
        ""
      ],
      "id": "z5lCZAQMCk6f",
      "execution_count": null,
      "outputs": []
    }
  ]
}