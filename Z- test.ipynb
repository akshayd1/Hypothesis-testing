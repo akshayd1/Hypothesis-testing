{
 "cells": [
  {
   "cell_type": "markdown",
   "id": "d3b4ec2f",
   "metadata": {},
   "source": [
    "## Z- test\n"
   ]
  },
  {
   "cell_type": "markdown",
   "id": "0c7b3d37",
   "metadata": {},
   "source": [
    "A z-test is a statistical test used to determine whether two population means\n",
    "\n",
    "are different when the variances are known and the sample size is large\n",
    "\n",
    "Assumption :\n",
    "\n",
    "1.sample size is greater than 30.\n",
    "\n",
    "2.Data points should be Independent from each other.\n",
    "\n",
    "3.Data Should be normally distributed.\n",
    "\n",
    "4.Population mean and Population variance is known.\n"
   ]
  },
  {
   "attachments": {
    "image.png": {
     "image/png": "[encoded data removed]"
    }
   },
   "cell_type": "markdown",
   "id": "91a0fd35",
   "metadata": {},
   "source": [
    "## Basic of Z test\n",
    "\n",
    "![image.png](attachment:image.png)\n",
    "\n",
    "Statistical Fromula :\n",
    "\n",
    "x_bar= Sample Mean\n",
    "\n",
    "μ = Population Mean\n",
    "\n",
    "σ = Population standard deviation\n",
    "\n",
    "n = Sample Size"
   ]
  },
  {
   "cell_type": "markdown",
   "id": "7434e9b2",
   "metadata": {},
   "source": [
    "# One sample Z test :\n"
   ]
  },
  {
   "cell_type": "markdown",
   "id": "383d156e",
   "metadata": {},
   "source": [
    "The one sample Z test used when we want to know whether our sample comes from a particular population. Thus ,our hypothesis tests wheather the avarage of our sample suggests that our students come from a population with known mean or wheather it comes from a different population."
   ]
  },
  {
   "cell_type": "markdown",
   "id": "4c1d9b15",
   "metadata": {},
   "source": [
    "**Example**: To check the hight of the U.S.male population .currently the population mean is about 70 inches with a standard deviation of 3 inches.A total of 30 representative samples are taken and the height is measured.\n",
    "\n",
    "**Hypothesis** :\n",
    "\n",
    "H0 : μ=70\n",
    "\n",
    "vs\n",
    "\n",
    "H1 : μ≠70"
   ]
  },
  {
   "cell_type": "code",
   "execution_count": 1,
   "id": "d12a774a",
   "metadata": {},
   "outputs": [],
   "source": [
    "x=[67,70,65,73,71,72,69,73,71,72,73,71,71,67,67,69,66,68,65,66,73,68,67,73,71,70,75,68,73,66] # sample data  \n",
    "n=len(x)\n",
    "\n",
    "\n",
    "μ=70                     #  Mean height|(inches) of U.S Males\n",
    "σ=3                      # population Stndard Deviation"
   ]
  },
  {
   "cell_type": "markdown",
   "id": "b5b301f6",
   "metadata": {},
   "source": [
    "Test statistics is : Z=(x_bar-Mu)/ (std_dev/sqrt(n))\n",
    "\n",
    "1.we have to find X_bar of sample , what is X_bar, X_bar is sample Mean .\n",
    "2.we have use two methods to find sample mean or any mean a)using basic formaula and b) define the function for that"
   ]
  },
  {
   "cell_type": "code",
   "execution_count": 2,
   "id": "0a9253e7",
   "metadata": {},
   "outputs": [
    {
     "data": {
      "text/plain": [
       "69.66666666666667"
      ]
     },
     "execution_count": 2,
     "metadata": {},
     "output_type": "execute_result"
    }
   ],
   "source": [
    "#a)Basic Formula:\n",
    "\n",
    "x_bar=sum(x)/len(x)\n",
    "x_bar\n",
    "\n",
    "# b) define the function mean:\n",
    "\n",
    "def mean(data):\n",
    "    y=sum(data)/len(data)\n",
    "    return y\n",
    "mean(x)"
   ]
  },
  {
   "cell_type": "markdown",
   "id": "de6bcca9",
   "metadata": {},
   "source": [
    "## Calculating Test Statistics :"
   ]
  },
  {
   "cell_type": "code",
   "execution_count": 3,
   "id": "d4124739",
   "metadata": {},
   "outputs": [
    {
     "name": "stdout",
     "output_type": "stream",
     "text": [
      "cal_value : -0.6085806194501759\n"
     ]
    }
   ],
   "source": [
    "import math                   #import math function for using mathematical operation\n",
    "\n",
    "z=(mean(x)-μ)/(σ/math.sqrt(n))\n",
    "cal_value=z\n",
    "\n",
    "print('cal_value :',cal_value)"
   ]
  },
  {
   "cell_type": "markdown",
   "id": "5dda7b23",
   "metadata": {},
   "source": [
    "For taking conculsion, we have to find tabulated value of one tailed sample test at alpha =0.05 or alpha =5%.\n",
    "\n",
    "For that we have to import scipy.stats library\n",
    "\n",
    "## Calulating Tabulated Value :                               \n",
    "scipy.stats.norm.ppf(1-α)\n",
    "\n",
    "where, α = Level of Significance"
   ]
  },
  {
   "cell_type": "code",
   "execution_count": 4,
   "id": "ee65d71e",
   "metadata": {},
   "outputs": [
    {
     "name": "stdout",
     "output_type": "stream",
     "text": [
      "tab_value : 1.6448536269514722\n"
     ]
    }
   ],
   "source": [
    "import scipy.stats\n",
    "tab_value=scipy.stats.norm.ppf(1-(0.05))\n",
    "print('tab_value :',tab_value)"
   ]
  },
  {
   "cell_type": "markdown",
   "id": "fe2c53f5",
   "metadata": {},
   "source": [
    "## Conclusion :"
   ]
  },
  {
   "cell_type": "code",
   "execution_count": 5,
   "id": "2d1730e5",
   "metadata": {},
   "outputs": [
    {
     "name": "stdout",
     "output_type": "stream",
     "text": [
      "Accept the Null hypothesis:\n",
      "  μ=70 \n"
     ]
    }
   ],
   "source": [
    "if tab_value > cal_value:\n",
    "    print(\"Accept the Null hypothesis:\\n\" ,\" μ=70 \")\n",
    "else:\n",
    "    print(\"Reject the Null hypothesis:\\n\",\"μ≠70\")"
   ]
  },
  {
   "cell_type": "markdown",
   "id": "7c54f1df",
   "metadata": {},
   "source": [
    "# Two Sample Z-test :\n"
   ]
  },
  {
   "cell_type": "markdown",
   "id": "c13d09ac",
   "metadata": {},
   "source": [
    "The Two-sample Z-test is used to compare the means of two samples to see if it is feasible that they come from the same population.\n",
    "\n",
    "Example : To compare the height of two male popualtions from the united states and sweden, a sample of 30 males from each country is randomly selected and the measured heights are provided. Mean,μ1=69.98 μ2=70.43 Standared Deviation ,σ1=3.12,σ2=2.44"
   ]
  },
  {
   "cell_type": "code",
   "execution_count": 6,
   "id": "143c1139",
   "metadata": {},
   "outputs": [],
   "source": [
    "x1=[69.12,66.88,74.82,67,69.12,65,71,66.76,72.12,72.94,69.18,66.18,64.94,71.76,70.12,71,71.88,65.24,70.06,71.94,72.12,66.88,\n",
    "    73.82,74,71.18,67.88,65.94,68.88,68,75.12]\n",
    "n1=len(x1)\n",
    "x2=[74.56,71.89,73,67.78,72.22,68,73.56,75,68.22,69,68,72,73.56,72.56,75,68.33,71.67,72.44,75,71.89,72,70,69.22,74.44,68,\n",
    "    73.89,70,70.44,70.22,73.33]\n",
    "n2=len(x2)\n",
    "\n",
    "μ1=69.98\n",
    "μ2=70.43\n",
    "σ1=3.12\n",
    "σ2=2.44"
   ]
  },
  {
   "cell_type": "markdown",
   "id": "7a44644e",
   "metadata": {},
   "source": [
    "**Hypothesis** :\n",
    "\n",
    "H0:μ1-μ2=0     #μ1 : mean height of US male population & μ2 : mean height of Swedish male population\n",
    "    vs\n",
    "    \n",
    "H1:μ1-μ2≠0"
   ]
  },
  {
   "attachments": {
    "image.png": {
     "image/png": "[encoded data removed]"
    }
   },
   "cell_type": "markdown",
   "id": "ea436350",
   "metadata": {},
   "source": [
    "Test statistics is : S=((mean(x1)-mean(x2))-(Mu1-Mu2))/math.sqrt(((std_dev(x1)2)/n1)+((std_dev(x2)2)/n2))\n",
    "\n",
    "![image.png](attachment:image.png)"
   ]
  },
  {
   "cell_type": "code",
   "execution_count": 9,
   "id": "a50a4cfa",
   "metadata": {},
   "outputs": [
    {
     "name": "stdout",
     "output_type": "stream",
     "text": [
      "69.69600000000001\n",
      "71.50733333333334\n"
     ]
    }
   ],
   "source": [
    "def mean(data):\n",
    "    y=sum(data)/len(data)\n",
    "    return y\n",
    "print(mean(x1))\n",
    "print(mean(x2))\n"
   ]
  },
  {
   "cell_type": "markdown",
   "id": "90695392",
   "metadata": {},
   "source": [
    "## Calculating Test Statistics :\n"
   ]
  },
  {
   "cell_type": "code",
   "execution_count": 10,
   "id": "5f6dc3a0",
   "metadata": {},
   "outputs": [
    {
     "name": "stdout",
     "output_type": "stream",
     "text": [
      "cal_value: -1.8825274420170446\n"
     ]
    }
   ],
   "source": [
    "import math                   #import math function for using mathematical operation\n",
    "def Ztest(x1,x2,σ1,σ2,Mu1,Mu2):\n",
    "    s=((mean(x1)-mean(x2))-(μ1-μ2))/math.sqrt(((σ1**2)/n1)+((σ2**2)/n2))\n",
    "    return s\n",
    "Ztest(x1,x2,σ1,σ2,μ1,μ2)\n",
    "cal_value= Ztest(x1,x2,σ1,σ2,μ1,μ2)\n",
    "print('cal_value:',cal_value)"
   ]
  },
  {
   "cell_type": "markdown",
   "id": "1a144ebf",
   "metadata": {},
   "source": [
    "# Calulating Tabulated Value :\n"
   ]
  },
  {
   "cell_type": "markdown",
   "id": "f67ae37e",
   "metadata": {},
   "source": [
    "scipy.stats.norm.ppf(1-α/2)\n",
    "\n",
    "where, α/2 = Level of Significance"
   ]
  },
  {
   "cell_type": "code",
   "execution_count": 11,
   "id": "f8b842c2",
   "metadata": {},
   "outputs": [
    {
     "name": "stdout",
     "output_type": "stream",
     "text": [
      "tab_value : 1.959963984540054\n"
     ]
    }
   ],
   "source": [
    "import scipy.stats\n",
    "tab_value=scipy.stats.norm.ppf(1-(0.05/2))\n",
    "print('tab_value :',tab_value)"
   ]
  },
  {
   "cell_type": "markdown",
   "id": "ab661073",
   "metadata": {},
   "source": [
    "## Conclusion :\n"
   ]
  },
  {
   "cell_type": "code",
   "execution_count": 12,
   "id": "6505d495",
   "metadata": {},
   "outputs": [
    {
     "name": "stdout",
     "output_type": "stream",
     "text": [
      "Accept the Null hypothesis:\n",
      "  μ1-μ2=0 \n"
     ]
    }
   ],
   "source": [
    "if tab_value > cal_value:\n",
    "    print(\"Accept the Null hypothesis:\\n\" ,\" μ1-μ2=0 \")\n",
    "else:\n",
    "    print(\"Reject the Null hypothesis:\\n\",\"μ1-μ2≠0\")"
   ]
  },
  {
   "cell_type": "code",
   "execution_count": null,
   "id": "3e749be4",
   "metadata": {},
   "outputs": [],
   "source": []
  }
 ],
 "metadata": {
  "kernelspec": {
   "display_name": "Python 3",
   "language": "python",
   "name": "python3"
  },
  "language_info": {
   "codemirror_mode": {
    "name": "ipython",
    "version": 3
   },
   "file_extension": ".py",
   "mimetype": "text/x-python",
   "name": "python",
   "nbconvert_exporter": "python",
   "pygments_lexer": "ipython3",
   "version": "3.8.8"
  }
 },
 "nbformat": 4,
 "nbformat_minor": 5
}
